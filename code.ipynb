{
 "cells": [
  {
   "cell_type": "code",
   "execution_count": 11,
   "metadata": {},
   "outputs": [],
   "source": [
    "import pandas as pd\n",
    "import numpy as np\n",
    "import seaborn as sns\n",
    "import matplotlib.pyplot as plt\n",
    "from sklearn.model_selection import train_test_split\n",
    "from sklearn.model_selection import GridSearchCV\n",
    "from sklearn.model_selection import KFold\n",
    "from sklearn.preprocessing import LabelEncoder\n",
    "from sklearn.model_selection import cross_val_score\n",
    "from sklearn.metrics import make_scorer"
   ]
  },
  {
   "cell_type": "markdown",
   "metadata": {},
   "source": [
    "#### 加载数据"
   ]
  },
  {
   "cell_type": "code",
   "execution_count": 27,
   "metadata": {},
   "outputs": [
    {
     "name": "stdout",
     "output_type": "stream",
     "text": [
      "(550, 32)\n"
     ]
    },
    {
     "data": {
      "text/html": [
       "<div>\n",
       "<style scoped>\n",
       "    .dataframe tbody tr th:only-of-type {\n",
       "        vertical-align: middle;\n",
       "    }\n",
       "\n",
       "    .dataframe tbody tr th {\n",
       "        vertical-align: top;\n",
       "    }\n",
       "\n",
       "    .dataframe thead th {\n",
       "        text-align: right;\n",
       "    }\n",
       "</style>\n",
       "<table border=\"1\" class=\"dataframe\">\n",
       "  <thead>\n",
       "    <tr style=\"text-align: right;\">\n",
       "      <th></th>\n",
       "      <th>0</th>\n",
       "      <th>1</th>\n",
       "      <th>2</th>\n",
       "      <th>3</th>\n",
       "      <th>4</th>\n",
       "      <th>5</th>\n",
       "      <th>6</th>\n",
       "      <th>7</th>\n",
       "      <th>8</th>\n",
       "      <th>9</th>\n",
       "      <th>...</th>\n",
       "      <th>22</th>\n",
       "      <th>23</th>\n",
       "      <th>24</th>\n",
       "      <th>25</th>\n",
       "      <th>26</th>\n",
       "      <th>27</th>\n",
       "      <th>28</th>\n",
       "      <th>29</th>\n",
       "      <th>30</th>\n",
       "      <th>31</th>\n",
       "    </tr>\n",
       "  </thead>\n",
       "  <tbody>\n",
       "    <tr>\n",
       "      <th>0</th>\n",
       "      <td>5</td>\n",
       "      <td>2</td>\n",
       "      <td>6</td>\n",
       "      <td>1</td>\n",
       "      <td>1</td>\n",
       "      <td>4</td>\n",
       "      <td>1</td>\n",
       "      <td>4</td>\n",
       "      <td>3</td>\n",
       "      <td>3</td>\n",
       "      <td>...</td>\n",
       "      <td>4</td>\n",
       "      <td>1</td>\n",
       "      <td>1</td>\n",
       "      <td>5</td>\n",
       "      <td>1</td>\n",
       "      <td>1</td>\n",
       "      <td>2</td>\n",
       "      <td>3</td>\n",
       "      <td>奥氮平</td>\n",
       "      <td>34</td>\n",
       "    </tr>\n",
       "    <tr>\n",
       "      <th>1</th>\n",
       "      <td>6</td>\n",
       "      <td>4</td>\n",
       "      <td>6</td>\n",
       "      <td>1</td>\n",
       "      <td>4</td>\n",
       "      <td>5</td>\n",
       "      <td>3</td>\n",
       "      <td>3</td>\n",
       "      <td>3</td>\n",
       "      <td>2</td>\n",
       "      <td>...</td>\n",
       "      <td>4</td>\n",
       "      <td>1</td>\n",
       "      <td>1</td>\n",
       "      <td>6</td>\n",
       "      <td>1</td>\n",
       "      <td>1</td>\n",
       "      <td>3</td>\n",
       "      <td>1</td>\n",
       "      <td>奥氮平</td>\n",
       "      <td>49</td>\n",
       "    </tr>\n",
       "    <tr>\n",
       "      <th>2</th>\n",
       "      <td>6</td>\n",
       "      <td>4</td>\n",
       "      <td>2</td>\n",
       "      <td>1</td>\n",
       "      <td>1</td>\n",
       "      <td>5</td>\n",
       "      <td>3</td>\n",
       "      <td>5</td>\n",
       "      <td>4</td>\n",
       "      <td>4</td>\n",
       "      <td>...</td>\n",
       "      <td>4</td>\n",
       "      <td>1</td>\n",
       "      <td>3</td>\n",
       "      <td>3</td>\n",
       "      <td>3</td>\n",
       "      <td>1</td>\n",
       "      <td>5</td>\n",
       "      <td>6</td>\n",
       "      <td>氟哌啶醇</td>\n",
       "      <td>86</td>\n",
       "    </tr>\n",
       "    <tr>\n",
       "      <th>3</th>\n",
       "      <td>5</td>\n",
       "      <td>2</td>\n",
       "      <td>5</td>\n",
       "      <td>3</td>\n",
       "      <td>2</td>\n",
       "      <td>4</td>\n",
       "      <td>1</td>\n",
       "      <td>1</td>\n",
       "      <td>3</td>\n",
       "      <td>1</td>\n",
       "      <td>...</td>\n",
       "      <td>5</td>\n",
       "      <td>1</td>\n",
       "      <td>3</td>\n",
       "      <td>4</td>\n",
       "      <td>2</td>\n",
       "      <td>3</td>\n",
       "      <td>2</td>\n",
       "      <td>3</td>\n",
       "      <td>奥氮平</td>\n",
       "      <td>49</td>\n",
       "    </tr>\n",
       "    <tr>\n",
       "      <th>4</th>\n",
       "      <td>3</td>\n",
       "      <td>5</td>\n",
       "      <td>5</td>\n",
       "      <td>3</td>\n",
       "      <td>2</td>\n",
       "      <td>2</td>\n",
       "      <td>4</td>\n",
       "      <td>3</td>\n",
       "      <td>1</td>\n",
       "      <td>3</td>\n",
       "      <td>...</td>\n",
       "      <td>4</td>\n",
       "      <td>1</td>\n",
       "      <td>4</td>\n",
       "      <td>5</td>\n",
       "      <td>4</td>\n",
       "      <td>2</td>\n",
       "      <td>3</td>\n",
       "      <td>2</td>\n",
       "      <td>齐拉西酮</td>\n",
       "      <td>69</td>\n",
       "    </tr>\n",
       "  </tbody>\n",
       "</table>\n",
       "<p>5 rows × 32 columns</p>\n",
       "</div>"
      ],
      "text/plain": [
       "   0   1   2   3   4   5   6   7   8   9   ...  22  23  24  25  26  27  28  \\\n",
       "0   5   2   6   1   1   4   1   4   3   3  ...   4   1   1   5   1   1   2   \n",
       "1   6   4   6   1   4   5   3   3   3   2  ...   4   1   1   6   1   1   3   \n",
       "2   6   4   2   1   1   5   3   5   4   4  ...   4   1   3   3   3   1   5   \n",
       "3   5   2   5   3   2   4   1   1   3   1  ...   5   1   3   4   2   3   2   \n",
       "4   3   5   5   3   2   2   4   3   1   3  ...   4   1   4   5   4   2   3   \n",
       "\n",
       "   29    30  31  \n",
       "0   3   奥氮平  34  \n",
       "1   1   奥氮平  49  \n",
       "2   6  氟哌啶醇  86  \n",
       "3   3   奥氮平  49  \n",
       "4   2  齐拉西酮  69  \n",
       "\n",
       "[5 rows x 32 columns]"
      ]
     },
     "execution_count": 27,
     "metadata": {},
     "output_type": "execute_result"
    }
   ],
   "source": [
    "# 读取训练集\n",
    "df_train = pd.read_excel('回归预测.xlsx', sheet_name='训练集',header = None)\n",
    "print(df_train.shape)\n",
    "df_train.head()"
   ]
  },
  {
   "cell_type": "code",
   "execution_count": 28,
   "metadata": {},
   "outputs": [
    {
     "name": "stdout",
     "output_type": "stream",
     "text": [
      "(137, 32)\n"
     ]
    },
    {
     "data": {
      "text/html": [
       "<div>\n",
       "<style scoped>\n",
       "    .dataframe tbody tr th:only-of-type {\n",
       "        vertical-align: middle;\n",
       "    }\n",
       "\n",
       "    .dataframe tbody tr th {\n",
       "        vertical-align: top;\n",
       "    }\n",
       "\n",
       "    .dataframe thead th {\n",
       "        text-align: right;\n",
       "    }\n",
       "</style>\n",
       "<table border=\"1\" class=\"dataframe\">\n",
       "  <thead>\n",
       "    <tr style=\"text-align: right;\">\n",
       "      <th></th>\n",
       "      <th>0</th>\n",
       "      <th>1</th>\n",
       "      <th>2</th>\n",
       "      <th>3</th>\n",
       "      <th>4</th>\n",
       "      <th>5</th>\n",
       "      <th>6</th>\n",
       "      <th>7</th>\n",
       "      <th>8</th>\n",
       "      <th>9</th>\n",
       "      <th>...</th>\n",
       "      <th>22</th>\n",
       "      <th>23</th>\n",
       "      <th>24</th>\n",
       "      <th>25</th>\n",
       "      <th>26</th>\n",
       "      <th>27</th>\n",
       "      <th>28</th>\n",
       "      <th>29</th>\n",
       "      <th>30</th>\n",
       "      <th>31</th>\n",
       "    </tr>\n",
       "  </thead>\n",
       "  <tbody>\n",
       "    <tr>\n",
       "      <th>0</th>\n",
       "      <td>4</td>\n",
       "      <td>3</td>\n",
       "      <td>5</td>\n",
       "      <td>1</td>\n",
       "      <td>1</td>\n",
       "      <td>4</td>\n",
       "      <td>4</td>\n",
       "      <td>1</td>\n",
       "      <td>1</td>\n",
       "      <td>3</td>\n",
       "      <td>...</td>\n",
       "      <td>3</td>\n",
       "      <td>1</td>\n",
       "      <td>2</td>\n",
       "      <td>6</td>\n",
       "      <td>3</td>\n",
       "      <td>1</td>\n",
       "      <td>2</td>\n",
       "      <td>2</td>\n",
       "      <td>齐拉西酮</td>\n",
       "      <td>40</td>\n",
       "    </tr>\n",
       "    <tr>\n",
       "      <th>1</th>\n",
       "      <td>6</td>\n",
       "      <td>5</td>\n",
       "      <td>4</td>\n",
       "      <td>3</td>\n",
       "      <td>6</td>\n",
       "      <td>6</td>\n",
       "      <td>1</td>\n",
       "      <td>1</td>\n",
       "      <td>1</td>\n",
       "      <td>1</td>\n",
       "      <td>...</td>\n",
       "      <td>6</td>\n",
       "      <td>1</td>\n",
       "      <td>4</td>\n",
       "      <td>6</td>\n",
       "      <td>4</td>\n",
       "      <td>5</td>\n",
       "      <td>1</td>\n",
       "      <td>5</td>\n",
       "      <td>喹硫平</td>\n",
       "      <td>86</td>\n",
       "    </tr>\n",
       "    <tr>\n",
       "      <th>2</th>\n",
       "      <td>4</td>\n",
       "      <td>3</td>\n",
       "      <td>3</td>\n",
       "      <td>1</td>\n",
       "      <td>1</td>\n",
       "      <td>5</td>\n",
       "      <td>4</td>\n",
       "      <td>3</td>\n",
       "      <td>3</td>\n",
       "      <td>4</td>\n",
       "      <td>...</td>\n",
       "      <td>4</td>\n",
       "      <td>1</td>\n",
       "      <td>3</td>\n",
       "      <td>5</td>\n",
       "      <td>3</td>\n",
       "      <td>2</td>\n",
       "      <td>2</td>\n",
       "      <td>4</td>\n",
       "      <td>利培酮</td>\n",
       "      <td>50</td>\n",
       "    </tr>\n",
       "    <tr>\n",
       "      <th>3</th>\n",
       "      <td>4</td>\n",
       "      <td>4</td>\n",
       "      <td>1</td>\n",
       "      <td>3</td>\n",
       "      <td>1</td>\n",
       "      <td>4</td>\n",
       "      <td>4</td>\n",
       "      <td>5</td>\n",
       "      <td>4</td>\n",
       "      <td>5</td>\n",
       "      <td>...</td>\n",
       "      <td>3</td>\n",
       "      <td>1</td>\n",
       "      <td>3</td>\n",
       "      <td>5</td>\n",
       "      <td>4</td>\n",
       "      <td>3</td>\n",
       "      <td>2</td>\n",
       "      <td>5</td>\n",
       "      <td>阿立哌唑</td>\n",
       "      <td>62</td>\n",
       "    </tr>\n",
       "    <tr>\n",
       "      <th>4</th>\n",
       "      <td>5</td>\n",
       "      <td>5</td>\n",
       "      <td>1</td>\n",
       "      <td>1</td>\n",
       "      <td>1</td>\n",
       "      <td>5</td>\n",
       "      <td>4</td>\n",
       "      <td>1</td>\n",
       "      <td>3</td>\n",
       "      <td>4</td>\n",
       "      <td>...</td>\n",
       "      <td>2</td>\n",
       "      <td>1</td>\n",
       "      <td>3</td>\n",
       "      <td>6</td>\n",
       "      <td>3</td>\n",
       "      <td>3</td>\n",
       "      <td>1</td>\n",
       "      <td>2</td>\n",
       "      <td>阿立哌唑</td>\n",
       "      <td>70</td>\n",
       "    </tr>\n",
       "  </tbody>\n",
       "</table>\n",
       "<p>5 rows × 32 columns</p>\n",
       "</div>"
      ],
      "text/plain": [
       "   0   1   2   3   4   5   6   7   8   9   ...  22  23  24  25  26  27  28  \\\n",
       "0   4   3   5   1   1   4   4   1   1   3  ...   3   1   2   6   3   1   2   \n",
       "1   6   5   4   3   6   6   1   1   1   1  ...   6   1   4   6   4   5   1   \n",
       "2   4   3   3   1   1   5   4   3   3   4  ...   4   1   3   5   3   2   2   \n",
       "3   4   4   1   3   1   4   4   5   4   5  ...   3   1   3   5   4   3   2   \n",
       "4   5   5   1   1   1   5   4   1   3   4  ...   2   1   3   6   3   3   1   \n",
       "\n",
       "   29    30  31  \n",
       "0   2  齐拉西酮  40  \n",
       "1   5   喹硫平  86  \n",
       "2   4   利培酮  50  \n",
       "3   5  阿立哌唑  62  \n",
       "4   2  阿立哌唑  70  \n",
       "\n",
       "[5 rows x 32 columns]"
      ]
     },
     "execution_count": 28,
     "metadata": {},
     "output_type": "execute_result"
    }
   ],
   "source": [
    "# 读取测试集\n",
    "df_valid = pd.read_excel('回归预测.xlsx', sheet_name='测试集',header = None)\n",
    "print(df_valid.shape)\n",
    "df_valid.head()"
   ]
  },
  {
   "cell_type": "markdown",
   "metadata": {},
   "source": [
    "#### 数据预处理"
   ]
  },
  {
   "cell_type": "code",
   "execution_count": 74,
   "metadata": {},
   "outputs": [
    {
     "name": "stdout",
     "output_type": "stream",
     "text": [
      "训练集缺失值个数： 0\n",
      "测试集缺失值个数： 0\n"
     ]
    }
   ],
   "source": [
    "# 查看数据缺失情况\n",
    "print('训练集缺失值个数：',df_train.isnull().sum().sum())\n",
    "print('测试集缺失值个数：', df_valid.isnull().sum().sum())"
   ]
  },
  {
   "cell_type": "code",
   "execution_count": 29,
   "metadata": {},
   "outputs": [
    {
     "name": "stdout",
     "output_type": "stream",
     "text": [
      "Label Encoding Mapping:\n",
      "{'利培酮': 0, '喹硫平': 1, '奋乃静': 2, '奥氮平': 3, '氟哌啶醇': 4, '阿立哌唑': 5, '齐拉西酮': 6}\n"
     ]
    },
    {
     "name": "stderr",
     "output_type": "stream",
     "text": [
      "/var/folders/hs/5m8lrcx52yb4wnw_8qdvzxmm0000gn/T/ipykernel_30496/3535584880.py:7: DeprecationWarning: In a future version, `df.iloc[:, i] = newvals` will attempt to set the values inplace instead of always setting a new array. To retain the old behavior, use either `df[df.columns[i]] = newvals` or, if columns are non-unique, `df.isetitem(i, newvals)`\n",
      "  df_train.iloc[:, 30] = label_encoder.fit_transform(df_train.iloc[:, 30])\n",
      "/var/folders/hs/5m8lrcx52yb4wnw_8qdvzxmm0000gn/T/ipykernel_30496/3535584880.py:8: DeprecationWarning: In a future version, `df.iloc[:, i] = newvals` will attempt to set the values inplace instead of always setting a new array. To retain the old behavior, use either `df[df.columns[i]] = newvals` or, if columns are non-unique, `df.isetitem(i, newvals)`\n",
      "  df_valid.iloc[:, 30] = label_encoder.fit_transform(df_valid.iloc[:, 30])\n"
     ]
    },
    {
     "data": {
      "text/plain": [
       "0      3\n",
       "1      3\n",
       "2      4\n",
       "3      3\n",
       "4      6\n",
       "      ..\n",
       "545    6\n",
       "546    0\n",
       "547    0\n",
       "548    5\n",
       "549    0\n",
       "Name: 30, Length: 550, dtype: int64"
      ]
     },
     "execution_count": 29,
     "metadata": {},
     "output_type": "execute_result"
    }
   ],
   "source": [
    "# LabelEncoder：将string类型的分类数据转换为int类型\n",
    "\n",
    "# 创建 LabelEncoder 对象\n",
    "label_encoder = LabelEncoder() \n",
    "\n",
    "# 将分类数据列进行标签编码\n",
    "df_train.iloc[:, 30] = label_encoder.fit_transform(df_train.iloc[:, 30]) \n",
    "df_valid.iloc[:, 30] = label_encoder.fit_transform(df_valid.iloc[:, 30]) \n",
    "\n",
    "# 查看转换映射\n",
    "mapping = dict(zip(label_encoder.classes_, label_encoder.transform(label_encoder.classes_)))\n",
    "print(\"Label Encoding Mapping:\")\n",
    "print(mapping)\n",
    "\n",
    "df_train.iloc[:, 30]"
   ]
  },
  {
   "cell_type": "code",
   "execution_count": 30,
   "metadata": {},
   "outputs": [],
   "source": [
    "# 划分数据集\n",
    "y_train = df_train.iloc [:,-1]\n",
    "X_train = df_train.iloc [: ,: -1]\n",
    "y_valid = df_valid.iloc [:,-1]\n",
    "X_valid = df_valid.iloc [: ,: -1]"
   ]
  },
  {
   "cell_type": "markdown",
   "metadata": {},
   "source": [
    "#### LightGBM"
   ]
  },
  {
   "cell_type": "code",
   "execution_count": 32,
   "metadata": {},
   "outputs": [],
   "source": [
    "from lightgbm import LGBMRegressor"
   ]
  },
  {
   "cell_type": "code",
   "execution_count": null,
   "metadata": {},
   "outputs": [],
   "source": [
    "# 定义平方和相对误差函数\n",
    "def ssre(y_true, y_pred):\n",
    "    # 防止除数为零，加上一个小的常数 epsilon\n",
    "    epsilon = 1e-10\n",
    "    \n",
    "    # 计算相对误差\n",
    "    relative_errors = (y_pred - y_true) / (y_true + epsilon)\n",
    "    \n",
    "    # 计算平方和相对误差\n",
    "    ssre_value = np.sum(relative_errors**2)\n",
    "    \n",
    "    return ssre_value"
   ]
  },
  {
   "cell_type": "code",
   "execution_count": 47,
   "metadata": {},
   "outputs": [],
   "source": [
    "# 外层 3 折交叉验证\n",
    "outer_cv = KFold(n_splits=3, random_state=1, shuffle=True)\n",
    "\n",
    "# 内层 2 折交叉验证\n",
    "inner_cv = KFold(n_splits=2, random_state=1, shuffle=True)\n",
    "\n",
    "# 创建模型\n",
    "estimator = LGBMRegressor(min_child_samples=5, random_state=1)\n",
    "\n",
    "# 定义超参数空间\n",
    "param_grid = {\n",
    "    'learning_rate': [0.001, 0.005, 0.01, 0.1] ,\n",
    "    'n_estimators': [40, 60, 80] ,\n",
    "    'num_leaves':[32, 64, 128] ,\n",
    "    }\n",
    "\n",
    "# 创建 GridSearchCV 对象\n",
    "gs = GridSearchCV ( estimator = estimator,\n",
    "                    param_grid = param_grid,\n",
    "                    scoring = make_scorer(ssre ,greater_is_better = False),\n",
    "                    cv=inner_cv)\n",
    "\n",
    "# 进行外层交叉验证\n",
    "outer_scores = cross_val_score(gs, X_train, y_train, scoring=make_scorer(ssre, greater_is_better=False),\n",
    "                               cv=outer_cv)"
   ]
  },
  {
   "cell_type": "code",
   "execution_count": 106,
   "metadata": {},
   "outputs": [
    {
     "name": "stdout",
     "output_type": "stream",
     "text": [
      "Best Parameters: {'learning_rate': 0.01, 'n_estimators': 60, 'num_leaves': 64}\n",
      "Outer Score: 21.293849918780396\n",
      "---\n",
      "Best Parameters: {'learning_rate': 0.01, 'n_estimators': 80, 'num_leaves': 32}\n",
      "Outer Score: 15.801122568551701\n",
      "---\n",
      "Best Parameters: {'learning_rate': 0.01, 'n_estimators': 80, 'num_leaves': 32}\n",
      "Outer Score: 21.582532980427658\n",
      "---\n"
     ]
    }
   ],
   "source": [
    "### 可输出更详细的训练结果\n",
    "# 外层 3 折交叉验证\n",
    "outer_cv = KFold(n_splits=3, random_state=1, shuffle=True)\n",
    "\n",
    "# 内层 2 折交叉验证\n",
    "inner_cv = KFold(n_splits=2, random_state=1, shuffle=True)\n",
    "\n",
    "# 创建模型\n",
    "estimator = LGBMRegressor(min_child_samples=5, random_state=1)\n",
    "\n",
    "# 定义超参数搜索空间\n",
    "param_grid = {\n",
    "    'learning_rate': [0.001, 0.005, 0.01],\n",
    "    'n_estimators': [40, 60, 80],\n",
    "    'num_leaves': [32, 64, 128],\n",
    "}\n",
    "\n",
    "# 创建 GridSearchCV 对象\n",
    "gs = GridSearchCV(estimator=estimator,\n",
    "                  param_grid=param_grid,\n",
    "                  scoring=make_scorer(ssre, greater_is_better=False),\n",
    "                  cv=inner_cv)\n",
    "\n",
    "# 进行外层交叉验证\n",
    "outer_results = []\n",
    "outer_score_list = []\n",
    "best_params_list = []\n",
    "\n",
    "for train_index, test_index in outer_cv.split(X_train):\n",
    "    X_outer_train, X_outer_test = X_train.iloc[train_index], X_train.iloc[test_index]\n",
    "    y_outer_train, y_outer_test = y_train.iloc[train_index], y_train.iloc[test_index]\n",
    "\n",
    "    # 进行内层交叉验证\n",
    "    gs.fit(X_outer_train, y_outer_train)\n",
    "\n",
    "    # 获取最佳参数的组合\n",
    "    best_params = gs.best_params_\n",
    "\n",
    "    # 在测试集上评估模型\n",
    "    outer_score = ssre(y_outer_test, gs.best_estimator_.predict(X_outer_test))\n",
    "\n",
    "    outer_results.append({'best_params': best_params, 'outer_score': outer_score})\n",
    "    outer_score_list.append(outer_score)\n",
    "    best_params_list.append(best_params)\n",
    "\n",
    "# 输出外层交叉验证结果\n",
    "for result in outer_results:\n",
    "    print('Best Parameters:', result['best_params'])\n",
    "    print('Outer Score:', result['outer_score'])\n",
    "    print('---')\n"
   ]
  },
  {
   "cell_type": "code",
   "execution_count": 107,
   "metadata": {},
   "outputs": [
    {
     "data": {
      "text/plain": [
       "{'learning_rate': 0.01, 'n_estimators': 80, 'num_leaves': 32}"
      ]
     },
     "execution_count": 107,
     "metadata": {},
     "output_type": "execute_result"
    }
   ],
   "source": [
    "min_score_index = outer_score_list.index(min(outer_score_list))\n",
    "best_params = best_params_list[min_score_index]\n",
    "best_params"
   ]
  },
  {
   "cell_type": "code",
   "execution_count": 108,
   "metadata": {},
   "outputs": [
    {
     "name": "stdout",
     "output_type": "stream",
     "text": [
      "CV ssre: 19.559 +/- 2.660\n"
     ]
    }
   ],
   "source": [
    "print('CV ssre: %.3f +/- %.3f' % (np.mean(outer_score_list), np.std(outer_score_list)))"
   ]
  },
  {
   "cell_type": "markdown",
   "metadata": {},
   "source": [
    "#### XGBoost"
   ]
  },
  {
   "cell_type": "code",
   "execution_count": 64,
   "metadata": {},
   "outputs": [],
   "source": [
    "from xgboost import XGBModel"
   ]
  },
  {
   "cell_type": "code",
   "execution_count": 110,
   "metadata": {},
   "outputs": [
    {
     "name": "stdout",
     "output_type": "stream",
     "text": [
      "Best Parameters: {'reg_sk__learning_rate': 0.001, 'reg_sk__max_depth': 2, 'reg_sk__n_estimators': 1}\n",
      "Outer Score: 26.391945481612787\n",
      "---\n",
      "Best Parameters: {'reg_sk__learning_rate': 0.001, 'reg_sk__max_depth': 2, 'reg_sk__n_estimators': 1}\n",
      "Outer Score: 24.229715620749456\n",
      "---\n",
      "Best Parameters: {'reg_sk__learning_rate': 0.001, 'reg_sk__max_depth': 2, 'reg_sk__n_estimators': 1}\n",
      "Outer Score: 42.98528275174692\n",
      "---\n"
     ]
    }
   ],
   "source": [
    "# 外层 3 折交叉验证\n",
    "outer_cv = KFold(n_splits=3, random_state=1, shuffle=True)\n",
    "\n",
    "# 内层 2 折交叉验证\n",
    "inner_cv = KFold(n_splits=2, random_state=1, shuffle=True)\n",
    "\n",
    "# 创建模型\n",
    "reg_sk = XGBModel(learning_rate =1, verbosity =0)\n",
    "\n",
    "# 定义超参数搜索空间\n",
    "param_grid =[{'reg_sk__n_estimators':list(range(1, 10, 2)),\n",
    "              'reg_sk__max_depth':[2, 3, 4] ,\n",
    "              'reg_sk__learning_rate':[0.001 ,0.005 ,0.01]\n",
    "            }]\n",
    "\n",
    "# 创建 GridSearchCV 对象\n",
    "gs = GridSearchCV (estimator =reg_sk,\n",
    "                   param_grid=param_grid,\n",
    "                   scoring =make_scorer(ssre ,greater_is_better =False),\n",
    "                   cv=inner_cv)      \n",
    "\n",
    "# 进行外层交叉验证\n",
    "outer_results = []\n",
    "outer_score_list = []\n",
    "best_params_list = []\n",
    "\n",
    "for train_index, test_index in outer_cv.split(X_train):\n",
    "    X_outer_train, X_outer_test = X_train.iloc[train_index], X_train.iloc[test_index]\n",
    "    y_outer_train, y_outer_test = y_train.iloc[train_index], y_train.iloc[test_index]\n",
    "\n",
    "    # 进行内层交叉验证\n",
    "    gs.fit(X_outer_train, y_outer_train)\n",
    "\n",
    "    # 获取最佳参数的组合\n",
    "    best_params = gs.best_params_\n",
    "\n",
    "    # 在测试集上评估模型\n",
    "    outer_score = ssre(y_outer_test, gs.best_estimator_.predict(X_outer_test))\n",
    "\n",
    "    outer_results.append({'best_params': best_params, 'outer_score': outer_score})\n",
    "    outer_score_list.append(outer_score)\n",
    "    best_params_list.append(best_params)\n",
    "\n",
    "# 输出外层交叉验证结果\n",
    "for result in outer_results:\n",
    "    print('Best Parameters:', result['best_params'])\n",
    "    print('Outer Score:', result['outer_score'])\n",
    "    print('---')"
   ]
  },
  {
   "cell_type": "code",
   "execution_count": 111,
   "metadata": {},
   "outputs": [
    {
     "name": "stdout",
     "output_type": "stream",
     "text": [
      "Best_params: {'reg_sk__learning_rate': 0.001, 'reg_sk__max_depth': 2, 'reg_sk__n_estimators': 1}\n",
      "CV ssre: 31.202 +/- 8.378\n"
     ]
    }
   ],
   "source": [
    "min_score_index = outer_score_list.index(min(outer_score_list))\n",
    "best_params = best_params_list[min_score_index]\n",
    "print('Best_params:', best_params)\n",
    "print('CV ssre: %.3f +/- %.3f' % (np.mean(outer_score_list), np.std(outer_score_list)))"
   ]
  },
  {
   "cell_type": "markdown",
   "metadata": {},
   "source": [
    "#### CatBoost"
   ]
  },
  {
   "cell_type": "code",
   "execution_count": 81,
   "metadata": {},
   "outputs": [],
   "source": [
    "from catboost import CatBoostRegressor"
   ]
  },
  {
   "cell_type": "code",
   "execution_count": 84,
   "metadata": {},
   "outputs": [
    {
     "name": "stdout",
     "output_type": "stream",
     "text": [
      "Best Parameters: {'depth': 10, 'learning_rate': 0.01}\n",
      "Outer Score: 17.229799971506694\n",
      "---\n",
      "Best Parameters: {'depth': 5, 'learning_rate': 0.01}\n",
      "Outer Score: 16.27189477433079\n",
      "---\n",
      "Best Parameters: {'depth': 5, 'learning_rate': 0.01}\n",
      "Outer Score: 20.349768951257055\n",
      "---\n"
     ]
    }
   ],
   "source": [
    "# 外层 3 折交叉验证\n",
    "outer_cv = KFold(n_splits=3, random_state=1, shuffle=True)\n",
    "\n",
    "# 内层 2 折交叉验证\n",
    "inner_cv = KFold(n_splits=2, random_state=1, shuffle=True)\n",
    "\n",
    "# 创建模型\n",
    "reg = CatBoostRegressor(iterations =500 , verbose=False)\n",
    "\n",
    "# 定义超参数搜索空间\n",
    "param_grid =[{'depth':[5 ,10],\n",
    "              'learning_rate':[0.005 ,0.01]}]\n",
    "\n",
    "# 创建 GridSearchCV 对象\n",
    "gs = GridSearchCV (estimator =reg,\n",
    "                   param_grid=param_grid,\n",
    "                   scoring =make_scorer(ssre ,greater_is_better =False),\n",
    "                   cv=inner_cv)      \n",
    "\n",
    "# 进行外层交叉验证\n",
    "outer_results = []\n",
    "outer_score_list = []\n",
    "best_params_list = []\n",
    "\n",
    "for train_index, test_index in outer_cv.split(X_train):\n",
    "    X_outer_train, X_outer_test = X_train.iloc[train_index], X_train.iloc[test_index]\n",
    "    y_outer_train, y_outer_test = y_train.iloc[train_index], y_train.iloc[test_index]\n",
    "\n",
    "    # 进行内层交叉验证\n",
    "    gs.fit(X_outer_train, y_outer_train)\n",
    "\n",
    "    # 获取最佳参数的组合\n",
    "    best_params = gs.best_params_\n",
    "\n",
    "    # 在测试集上评估模型\n",
    "    outer_score = ssre(y_outer_test, gs.best_estimator_.predict(X_outer_test))\n",
    "\n",
    "    outer_results.append({'best_params': best_params, 'outer_score': outer_score})\n",
    "    outer_score_list.append(outer_score)\n",
    "    best_params_list.append(best_params)\n",
    "\n",
    "# 输出外层交叉验证结果\n",
    "for result in outer_results:\n",
    "    print('Best Parameters:', result['best_params'])\n",
    "    print('Outer Score:', result['outer_score'])\n",
    "    print('---')"
   ]
  },
  {
   "cell_type": "code",
   "execution_count": 85,
   "metadata": {},
   "outputs": [
    {
     "name": "stdout",
     "output_type": "stream",
     "text": [
      "Best_params: {'depth': 5, 'learning_rate': 0.01}\n",
      "CV ssre: 17.950 +/- 1.741\n"
     ]
    }
   ],
   "source": [
    "min_score_index = outer_score_list.index(min(outer_score_list))\n",
    "best_params = best_params_list[min_score_index]\n",
    "print('Best_params:', best_params)\n",
    "print('CV ssre: %.3f +/- %.3f' % (np.mean(outer_score_list), np.std(outer_score_list)))"
   ]
  },
  {
   "cell_type": "markdown",
   "metadata": {},
   "source": [
    "#### AdaBoost"
   ]
  },
  {
   "cell_type": "code",
   "execution_count": 88,
   "metadata": {},
   "outputs": [],
   "source": [
    "from sklearn.tree import DecisionTreeRegressor\n",
    "from sklearn.ensemble import AdaBoostRegressor"
   ]
  },
  {
   "cell_type": "code",
   "execution_count": 97,
   "metadata": {},
   "outputs": [
    {
     "name": "stdout",
     "output_type": "stream",
     "text": [
      "Best Parameters: {'learning_rate': 0.01, 'n_estimators': 45}\n",
      "Outer Score: 18.117781027503675\n",
      "---\n",
      "Best Parameters: {'learning_rate': 0.005, 'n_estimators': 50}\n",
      "Outer Score: 16.23897521072333\n",
      "---\n",
      "Best Parameters: {'learning_rate': 0.001, 'n_estimators': 60}\n",
      "Outer Score: 20.78721006585829\n",
      "---\n"
     ]
    }
   ],
   "source": [
    "# 外层 3 折交叉验证\n",
    "outer_cv = KFold(n_splits=3, random_state=1, shuffle=True)\n",
    "\n",
    "# 内层 2 折交叉验证\n",
    "inner_cv = KFold(n_splits=2, random_state=1, shuffle=True)\n",
    "\n",
    "# Define the AdaBoostRegressor\n",
    "base_regressor = DecisionTreeRegressor(max_depth=3)\n",
    "ada_boost = AdaBoostRegressor(estimator=base_regressor, random_state=1)\n",
    "\n",
    "# 定义超参数搜索空间\n",
    "param_grid = {\n",
    "    'n_estimators': [10, 20, 30, 40, 45, 50, 60],\n",
    "    'learning_rate': [0.001 ,0.005 ,0.01, 0.1, 0.5],\n",
    "    }\n",
    "\n",
    "# 创建 GridSearchCV 对象\n",
    "gs = GridSearchCV (estimator =ada_boost,\n",
    "                   param_grid=param_grid,\n",
    "                   scoring =make_scorer(ssre ,greater_is_better =False),\n",
    "                   cv=inner_cv)      \n",
    "\n",
    "# 进行外层交叉验证\n",
    "outer_results = []\n",
    "outer_score_list = []\n",
    "best_params_list = []\n",
    "\n",
    "for train_index, test_index in outer_cv.split(X_train):\n",
    "    X_outer_train, X_outer_test = X_train.iloc[train_index], X_train.iloc[test_index]\n",
    "    y_outer_train, y_outer_test = y_train.iloc[train_index], y_train.iloc[test_index]\n",
    "\n",
    "    # 进行内层交叉验证\n",
    "    gs.fit(X_outer_train, y_outer_train)\n",
    "\n",
    "    # 获取最佳参数的组合\n",
    "    best_params = gs.best_params_\n",
    "\n",
    "    # 在测试集上评估模型\n",
    "    outer_score = ssre(y_outer_test, gs.best_estimator_.predict(X_outer_test))\n",
    "\n",
    "    outer_results.append({'best_params': best_params, 'outer_score': outer_score})\n",
    "    outer_score_list.append(outer_score)\n",
    "    best_params_list.append(best_params)\n",
    "    \n",
    "# 输出外层交叉验证结果\n",
    "for result in outer_results:\n",
    "    print('Best Parameters:', result['best_params'])\n",
    "    print('Outer Score:', result['outer_score'])\n",
    "    print('---')"
   ]
  },
  {
   "cell_type": "code",
   "execution_count": 100,
   "metadata": {},
   "outputs": [
    {
     "name": "stdout",
     "output_type": "stream",
     "text": [
      "Best_params: {'learning_rate': 0.005, 'n_estimators': 50}\n",
      "CV ssre: 18.381 +/- 1.866\n"
     ]
    }
   ],
   "source": [
    "min_score_index = outer_score_list.index(min(outer_score_list))\n",
    "best_params = best_params_list[min_score_index]\n",
    "print('Best_params:', best_params)\n",
    "print('CV ssre: %.3f +/- %.3f' % (np.mean(outer_score_list), np.std(outer_score_list)))"
   ]
  },
  {
   "cell_type": "markdown",
   "metadata": {},
   "source": [
    "#### 测试集上预测效果"
   ]
  },
  {
   "cell_type": "code",
   "execution_count": 134,
   "metadata": {},
   "outputs": [
    {
     "name": "stdout",
     "output_type": "stream",
     "text": [
      "LGBMRegressor SSRE: 11.627\n",
      "XGBRegressor SSRE: 12.177\n",
      "CatBoostRegressor SSRE: 11.177\n",
      "AdaBoostRegressor SSRE: 11.288\n"
     ]
    },
    {
     "name": "stderr",
     "output_type": "stream",
     "text": [
      "/Users/shiroxie/miniconda3/envs/env_test/lib/python3.10/site-packages/sklearn/ensemble/_base.py:166: FutureWarning: `base_estimator` was renamed to `estimator` in version 1.2 and will be removed in 1.4.\n",
      "  warnings.warn(\n"
     ]
    }
   ],
   "source": [
    "# 超参数调优结果（在训练集上）\n",
    "reg1 = LGBMRegressor(min_child_samples=5, learning_rate=0.01, n_estimators=80, num_leaves=32, random_state=1)\n",
    "reg2 = XGBRegressor(learning_rate=0.001, max_depth=2, n_estimators=1, random_state=1)\n",
    "reg3 = CatBoostRegressor(depth=5, learning_rate=0.01, iterations=500, verbose=False)\n",
    "reg4 = AdaBoostRegressor(base_estimator=DecisionTreeRegressor(max_depth=3), learning_rate=0.005, n_estimators=50, random_state=1)\n",
    "\n",
    "# 重新拟合模型（在训练集上）\n",
    "reg1.fit(X_train, y_train)\n",
    "reg2.fit(X_train, y_train)\n",
    "reg3.fit(X_train, y_train)\n",
    "reg4.fit(X_train, y_train)\n",
    "\n",
    "# 模型预测（在测试集上）\n",
    "y_pred1 = reg1.predict(X_valid)\n",
    "y_pred2 = reg2.predict(X_valid)\n",
    "y_pred3 = reg3.predict(X_valid)\n",
    "y_pred4 = reg4.predict(X_valid)\n",
    "\n",
    "# 效果评估，使用平方和相对误差\n",
    "print('LGBMRegressor SSRE: %.3f' % ssre(y_valid, y_pred1))\n",
    "print('XGBRegressor SSRE: %.3f' % ssre(y_valid, y_pred2))\n",
    "print('CatBoostRegressor SSRE: %.3f' % ssre(y_valid, y_pred3))\n",
    "print('AdaBoostRegressor SSRE: %.3f' % ssre(y_valid, y_pred4))"
   ]
  }
 ],
 "metadata": {
  "kernelspec": {
   "display_name": "env_test",
   "language": "python",
   "name": "python3"
  },
  "language_info": {
   "codemirror_mode": {
    "name": "ipython",
    "version": 3
   },
   "file_extension": ".py",
   "mimetype": "text/x-python",
   "name": "python",
   "nbconvert_exporter": "python",
   "pygments_lexer": "ipython3",
   "version": "3.10.10"
  }
 },
 "nbformat": 4,
 "nbformat_minor": 2
}
